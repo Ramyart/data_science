{
 "cells": [
  {
   "cell_type": "code",
   "execution_count": null,
   "metadata": {},
   "outputs": [],
   "source": [
    "# Iteration is the ability to execute a certain code repeatedly \n",
    "even_number = [2, 4, 6, 8, 10, 12, 14, 16]"
   ]
  },
  {
   "cell_type": "code",
   "execution_count": null,
   "metadata": {},
   "outputs": [],
   "source": [
    "for x in even_number:\n",
    "    print(x, end = ' ')"
   ]
  },
  {
   "cell_type": "code",
   "execution_count": null,
   "metadata": {},
   "outputs": [],
   "source": [
    "x = 0\n",
    "while x<=30:\n",
    "    print(x, end = ' ')\n",
    "    x = x + 2\n",
    "    \n",
    "# the last line is called 'incrementing (adding)'\n",
    "# we can use of this syntax 'x += 2'\n",
    "# Be very careful when you're writting loop codes. Because bade code can CRASH your device."
   ]
  },
  {
   "cell_type": "code",
   "execution_count": null,
   "metadata": {},
   "outputs": [],
   "source": [
    "# creating lists in Python with range() function\n",
    "\n",
    "# range(start, stop, step) creates a sequence of integers \n",
    "# stop > start > step. range(0 = by default, ? , 1 = by default)\n",
    "range(10)\n",
    "list(range(10))"
   ]
  },
  {
   "cell_type": "code",
   "execution_count": null,
   "metadata": {},
   "outputs": [],
   "source": [
    "list(range(3, 7))"
   ]
  },
  {
   "cell_type": "code",
   "execution_count": null,
   "metadata": {},
   "outputs": [],
   "source": [
    "list(range(1, 19, 2))"
   ]
  },
  {
   "cell_type": "code",
   "execution_count": null,
   "metadata": {},
   "outputs": [],
   "source": [
    "# note that 'float' numbers cannot be used as a \"step\"\n",
    "list(range(1, 19, 1.5))"
   ]
  },
  {
   "cell_type": "code",
   "execution_count": null,
   "metadata": {},
   "outputs": [],
   "source": [
    "# use of range() in for loops\n",
    "\n",
    "for x in range(10):\n",
    "    print(x, end = \" \")"
   ]
  },
  {
   "cell_type": "code",
   "execution_count": null,
   "metadata": {},
   "outputs": [],
   "source": [
    "# mixing conditionals and for loops\n",
    "\n",
    "for x in range(20):\n",
    "    if x % 2 == 0:\n",
    "        print(\"Even\", end = \" \")\n",
    "    else:\n",
    "        print('Odd', end = \" \")"
   ]
  },
  {
   "cell_type": "code",
   "execution_count": null,
   "metadata": {},
   "outputs": [],
   "source": [
    "# The following two loops are almost identical, but the second one is more professional\n",
    "x = [0, 1, 2]\n",
    "\n",
    "for item in x:\n",
    "    print(item, end = ' ')"
   ]
  },
  {
   "cell_type": "code",
   "execution_count": null,
   "metadata": {},
   "outputs": [],
   "source": [
    "  \n",
    "for item in range(len(x)):\n",
    "    print(x[item], end = ' ')"
   ]
  },
  {
   "cell_type": "code",
   "execution_count": null,
   "metadata": {},
   "outputs": [],
   "source": [
    "# loops in functions\n",
    "\n",
    "def count_function(numbers):\n",
    "    total = 0 # total here is called a 'rolling sum'\n",
    "    for x in numbers:\n",
    "        if x < 20:\n",
    "            total += 1\n",
    "    return total \n",
    "\n",
    "# due to the third line we understand that numbers should be a list. So, inputs of this function are sequences  \n",
    "# dictionaries are not acceptable as an input for this function"
   ]
  },
  {
   "cell_type": "code",
   "execution_count": null,
   "metadata": {},
   "outputs": [],
   "source": [
    "list1 = [0,1,3,19,56,23,20,4]\n",
    "count_function(list1)"
   ]
  },
  {
   "cell_type": "code",
   "execution_count": null,
   "metadata": {},
   "outputs": [],
   "source": [
    "count_function(range(10)), count_function((1,2,3)) "
   ]
  },
  {
   "cell_type": "code",
   "execution_count": null,
   "metadata": {},
   "outputs": [],
   "source": [
    "# In Python 3. x, range() returns an immutable sequence type,\n",
    "# you need list(range(0,2)) to get a list.\n",
    "# Basically, the difference is that range(0, 2) is a generator function and\n",
    "# list(range(0, 2)) is an actual list. \n",
    "# When you need the entire list of data in your code, use the list method."
   ]
  },
  {
   "cell_type": "code",
   "execution_count": null,
   "metadata": {},
   "outputs": [],
   "source": [
    "# iterate over dictionaries\n",
    "# a situation for a customer in a market\n",
    "\n",
    "Prices = {'Spaghetti' : 4, 'Lasagna' : 6, 'Hamburger': 7}\n",
    "\n",
    "Quantity = {'Spaghetti' : 3, 'Lasagna' : 2, 'Hamburger': 5}\n",
    "\n",
    "money_spent = 0\n",
    "\n",
    "for i in Prices:\n",
    "    money_spent = money_spent + (Prices[i] * Quantity[i])\n",
    "    \n",
    "print(money_spent)"
   ]
  },
  {
   "cell_type": "code",
   "execution_count": null,
   "metadata": {},
   "outputs": [],
   "source": [
    "# Next Week is our last session of Pyhton in this course. We will talk about some of the advanced Python tools.\n",
    "# For example, OOP or Object Oriented Programming. Stay tuned"
   ]
  }
 ],
 "metadata": {
  "kernelspec": {
   "display_name": "Python 3",
   "language": "python",
   "name": "python3"
  },
  "language_info": {
   "codemirror_mode": {
    "name": "ipython",
    "version": 3
   },
   "file_extension": ".py",
   "mimetype": "text/x-python",
   "name": "python",
   "nbconvert_exporter": "python",
   "pygments_lexer": "ipython3",
   "version": "3.8.3"
  }
 },
 "nbformat": 4,
 "nbformat_minor": 4
}
