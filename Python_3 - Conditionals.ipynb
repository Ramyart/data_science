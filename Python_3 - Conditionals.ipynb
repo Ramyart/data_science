{
 "cells": [
  {
   "cell_type": "markdown",
   "metadata": {},
   "source": [
    "# Welcome to the fourth session - Conditionals in Python "
   ]
  },
  {
   "cell_type": "markdown",
   "metadata": {},
   "source": [
    "### as its name, Conditonals check if a statement holds or not"
   ]
  },
  {
   "cell_type": "code",
   "execution_count": 3,
   "metadata": {},
   "outputs": [
    {
     "name": "stdout",
     "output_type": "stream",
     "text": [
      "اوکی\n"
     ]
    }
   ],
   "source": [
    "if 5 == 15/3:\n",
    "    print(\"اوکی\")"
   ]
  },
  {
   "cell_type": "code",
   "execution_count": 4,
   "metadata": {},
   "outputs": [],
   "source": [
    "if 5 == 18/3:\n",
    "    print(\"نات اوکی\")"
   ]
  },
  {
   "cell_type": "code",
   "execution_count": 5,
   "metadata": {},
   "outputs": [
    {
     "name": "stdout",
     "output_type": "stream",
     "text": [
      "نو\n"
     ]
    }
   ],
   "source": [
    "x = 1\n",
    "\n",
    "if x >= 3:\n",
    "    print(\"یس\")\n",
    "if x < 3:\n",
    "    print(\"نو\")"
   ]
  },
  {
   "cell_type": "markdown",
   "metadata": {},
   "source": [
    "### ELSE statements "
   ]
  },
  {
   "cell_type": "code",
   "execution_count": 6,
   "metadata": {},
   "outputs": [
    {
     "name": "stdout",
     "output_type": "stream",
     "text": [
      "کماکان نو\n"
     ]
    }
   ],
   "source": [
    "# we can write the above codes by a shorter syntax:   \n",
    "x = 1\n",
    "\n",
    "if x >= 3:\n",
    "    print(\"یس\")\n",
    "else:\n",
    "    print(\"کماکان نو\")"
   ]
  },
  {
   "cell_type": "markdown",
   "metadata": {},
   "source": [
    "### ELIF in conditionals"
   ]
  },
  {
   "cell_type": "code",
   "execution_count": 9,
   "metadata": {},
   "outputs": [],
   "source": [
    "def compare_5(y):\n",
    "    if y > 5:\n",
    "         return \"بزرگ‌تر\"\n",
    "    if y < 5:\n",
    "        return \"کوچک‌تر\"\n",
    "    else:\n",
    "        return \"برابر\""
   ]
  },
  {
   "cell_type": "code",
   "execution_count": 12,
   "metadata": {},
   "outputs": [
    {
     "data": {
      "text/plain": [
       "'برابر'"
      ]
     },
     "execution_count": 12,
     "metadata": {},
     "output_type": "execute_result"
    }
   ],
   "source": [
    "compare_5(5)"
   ]
  },
  {
   "cell_type": "code",
   "execution_count": 13,
   "metadata": {},
   "outputs": [],
   "source": [
    "def compare_5(y):\n",
    "    if y > 5:\n",
    "         return \"بزرگ‌تر\"\n",
    "    elif y < 5:\n",
    "        return \"کوچک‌تر\"\n",
    "    else:\n",
    "        return \"برابر\""
   ]
  },
  {
   "cell_type": "code",
   "execution_count": 14,
   "metadata": {},
   "outputs": [
    {
     "name": "stdout",
     "output_type": "stream",
     "text": [
      "کوچک‌تر\n"
     ]
    }
   ],
   "source": [
    "print(compare_5(4))"
   ]
  },
  {
   "cell_type": "code",
   "execution_count": 25,
   "metadata": {},
   "outputs": [],
   "source": [
    "def compare_5(y):\n",
    "    if y > 5:\n",
    "         return \"بزرگ‌تر\"\n",
    "    elif 0 < y < 5:\n",
    "        return \"کوچک‌تر\"\n",
    "    elif y < 0:\n",
    "        return \"منفی\"\n",
    "    else:\n",
    "        return \"برابر\""
   ]
  },
  {
   "cell_type": "code",
   "execution_count": 26,
   "metadata": {},
   "outputs": [
    {
     "name": "stdout",
     "output_type": "stream",
     "text": [
      "منفی\n"
     ]
    }
   ],
   "source": [
    "print(compare_5(-3))"
   ]
  },
  {
   "cell_type": "code",
   "execution_count": 27,
   "metadata": {},
   "outputs": [
    {
     "name": "stdout",
     "output_type": "stream",
     "text": [
      "کوچک‌تر\n"
     ]
    }
   ],
   "source": [
    "print(compare_5(4))"
   ]
  },
  {
   "cell_type": "code",
   "execution_count": null,
   "metadata": {},
   "outputs": [],
   "source": [
    "# the order of statements are very important in conditionals. "
   ]
  },
  {
   "cell_type": "code",
   "execution_count": null,
   "metadata": {},
   "outputs": [],
   "source": [
    "# can you write a simple program that act like a calculator by conditionals? Is it possible?"
   ]
  },
  {
   "cell_type": "code",
   "execution_count": null,
   "metadata": {},
   "outputs": [],
   "source": []
  }
 ],
 "metadata": {
  "kernelspec": {
   "display_name": "Python 3",
   "language": "python",
   "name": "python3"
  },
  "language_info": {
   "codemirror_mode": {
    "name": "ipython",
    "version": 3
   },
   "file_extension": ".py",
   "mimetype": "text/x-python",
   "name": "python",
   "nbconvert_exporter": "python",
   "pygments_lexer": "ipython3",
   "version": "3.8.3"
  }
 },
 "nbformat": 4,
 "nbformat_minor": 4
}
